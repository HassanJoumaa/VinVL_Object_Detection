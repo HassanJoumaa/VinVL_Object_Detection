{
  "nbformat": 4,
  "nbformat_minor": 0,
  "metadata": {
    "kernelspec": {
      "name": "python3",
      "display_name": "Python 3"
    },
    "colab": {
      "name": "prepare_vinvl_input.ipynb",
      "provenance": [],
      "toc_visible": true,
      "include_colab_link": true
    },
    "language_info": {
      "name": "python"
    }
  },
  "cells": [
    {
      "cell_type": "markdown",
      "metadata": {
        "id": "view-in-github",
        "colab_type": "text"
      },
      "source": [
        "<a href=\"https://colab.research.google.com/github/HassanJoumaa/VinVL_Object_Detection/blob/main/prepare_vinvl_input.ipynb\" target=\"_parent\"><img src=\"https://colab.research.google.com/assets/colab-badge.svg\" alt=\"Open In Colab\"/></a>"
      ]
    },
    {
      "cell_type": "markdown",
      "metadata": {
        "id": "rVpA5s4FXiUR"
      },
      "source": [
        "## VINVL input preparation\n",
        "* Requirements: [microsoft sg_benchmark](https://github.com/microsoft/scene_graph_benchmark/blob/main/INSTALL.md) + pandas + yaml\n",
        "* To generate `predictions.tsv` using SG_benchmark, see [this issue](https://github.com/microsoft/scene_graph_benchmark/issues/7#issuecomment-819357369)"
      ]
    },
    {
      "cell_type": "code",
      "metadata": {
        "colab": {
          "base_uri": "https://localhost:8080/"
        },
        "id": "saizqVTYXn_S",
        "outputId": "a59fc6c4-4872-4205-eb92-63b316567b68"
      },
      "source": [
        "from google.colab import drive\n",
        "drive.mount('/content/drive')"
      ],
      "execution_count": null,
      "outputs": [
        {
          "output_type": "stream",
          "text": [
            "Mounted at /content/drive\n"
          ],
          "name": "stdout"
        }
      ]
    },
    {
      "cell_type": "code",
      "metadata": {
        "id": "oJp5fAkCXiUX"
      },
      "source": [
        "import pandas as pd\n",
        "import ast\n",
        "import json\n",
        "import base64\n",
        "import numpy as np\n",
        "import json\n",
        "np.set_printoptions(suppress=True, precision=4)"
      ],
      "execution_count": null,
      "outputs": []
    },
    {
      "cell_type": "markdown",
      "metadata": {
        "id": "r0eKnwvzXiUZ"
      },
      "source": [
        "### To feed the data into VinVL's run_captioning.py on COCO, we need to generate:\n",
        "* test.yaml file with:\n",
        "    * test.labels.tsv: labels with confidence intervals\n",
        "        * image_id, [{'class':str, conf: float, 'rect':[x_tl, y_tl, x_br,y_br]},{},...,{}]\n",
        "    * test.feature.tsv: features extracted via sg_benchmark\n",
        "        * image_id, {\"num_boxes\": n, \"features\": concatenated base64-encoded features: 2048 spacial features, 6 additional features*}\n",
        "    * other files in COCO's yaml (test.img.tsv, test.hw.tsv, captions.json) aren't used for inference\n",
        "\n",
        "\n",
        "\n",
        "* 6 additional features (hypothesis): for each bounding box we have: \n",
        "    * [0]: x_top_left/image_w, \n",
        "    * [1]: y_top_left/image_h, \n",
        "    * [2]: x_bottom_right/image_w, \n",
        "    * [3]: y_bottom_right/image_h, \n",
        "    * [4]: box_height/image_h = (x_br - x_tl)/image_h = [2] -[0]\n",
        "    * [5]: (y_br-y_tl)/image_w = [3]-[1]"
      ]
    },
    {
      "cell_type": "markdown",
      "metadata": {
        "id": "cs6gLE3oXiUa"
      },
      "source": [
        "### We need height and width of the pictures"
      ]
    },
    {
      "cell_type": "code",
      "metadata": {
        "colab": {
          "base_uri": "https://localhost:8080/",
          "height": 233
        },
        "id": "6pcd8bkoXiUb",
        "outputId": "266d90f1-9622-4f84-b2cc-a9311896ff5a"
      },
      "source": [
        "hw_df = pd.read_csv('/content/drive/MyDrive/projects/scene_graph_benchmark-main/tools/mini_tsv/data/train.hw.tsv',sep='\\t',header=None,converters={1:ast.literal_eval},index_col=0)\n",
        "hw_df.head()"
      ],
      "execution_count": null,
      "outputs": [
        {
          "output_type": "execute_result",
          "data": {
            "text/html": [
              "<div>\n",
              "<style scoped>\n",
              "    .dataframe tbody tr th:only-of-type {\n",
              "        vertical-align: middle;\n",
              "    }\n",
              "\n",
              "    .dataframe tbody tr th {\n",
              "        vertical-align: top;\n",
              "    }\n",
              "\n",
              "    .dataframe thead th {\n",
              "        text-align: right;\n",
              "    }\n",
              "</style>\n",
              "<table border=\"1\" class=\"dataframe\">\n",
              "  <thead>\n",
              "    <tr style=\"text-align: right;\">\n",
              "      <th></th>\n",
              "      <th>1</th>\n",
              "    </tr>\n",
              "    <tr>\n",
              "      <th>0</th>\n",
              "      <th></th>\n",
              "    </tr>\n",
              "  </thead>\n",
              "  <tbody>\n",
              "    <tr>\n",
              "      <th>img1</th>\n",
              "      <td>[{'height': 801, 'width': 1200}]</td>\n",
              "    </tr>\n",
              "    <tr>\n",
              "      <th>img2</th>\n",
              "      <td>[{'height': 720, 'width': 1080}]</td>\n",
              "    </tr>\n",
              "    <tr>\n",
              "      <th>img3</th>\n",
              "      <td>[{'height': 787, 'width': 1400}]</td>\n",
              "    </tr>\n",
              "    <tr>\n",
              "      <th>img4</th>\n",
              "      <td>[{'height': 342, 'width': 512}]</td>\n",
              "    </tr>\n",
              "    <tr>\n",
              "      <th>img5</th>\n",
              "      <td>[{'height': 336, 'width': 500}]</td>\n",
              "    </tr>\n",
              "  </tbody>\n",
              "</table>\n",
              "</div>"
            ],
            "text/plain": [
              "                                     1\n",
              "0                                     \n",
              "img1  [{'height': 801, 'width': 1200}]\n",
              "img2  [{'height': 720, 'width': 1080}]\n",
              "img3  [{'height': 787, 'width': 1400}]\n",
              "img4   [{'height': 342, 'width': 512}]\n",
              "img5   [{'height': 336, 'width': 500}]"
            ]
          },
          "metadata": {
            "tags": []
          },
          "execution_count": 3
        }
      ]
    },
    {
      "cell_type": "markdown",
      "metadata": {
        "id": "SmphuM9ZXiUd"
      },
      "source": [
        "### We also need `predictions.tsv` with bboxes, its class, confidence and spacial features"
      ]
    },
    {
      "cell_type": "code",
      "metadata": {
        "colab": {
          "base_uri": "https://localhost:8080/"
        },
        "id": "gRhMegW6XiUd",
        "outputId": "3042e55b-9330-4137-c9ef-aa1e3ce617f3"
      },
      "source": [
        "sg_tsv = '/content/drive/MyDrive/projects/scene_graph_benchmark-main/output/X152C5_test/inference/config.yaml/predictions.tsv'\n",
        "df = pd.read_csv(sg_tsv,sep='\\t',header = None,converters={1:json.loads})#converters={1:ast.literal_eval})\n",
        "df[1] = df[1].apply(lambda x: x['objects'])\n",
        "\n",
        "#example\n",
        "df.loc[0,1][0]"
      ],
      "execution_count": null,
      "outputs": [
        {
          "output_type": "execute_result",
          "data": {
            "text/plain": [
              "{'bbox_id': 0,\n",
              " 'class': 'guitar',\n",
              " 'conf': 0.9935479760169983,\n",
              " 'feature': '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',\n",
              " 'rect': [319.3331298828125,\n",
              "  376.935791015625,\n",
              "  604.7099609375,\n",
              "  507.1802673339844]}"
            ]
          },
          "metadata": {
            "tags": []
          },
          "execution_count": 4
        }
      ]
    },
    {
      "cell_type": "code",
      "metadata": {
        "id": "0iUbm2DcXiUe"
      },
      "source": [
        "def generate_additional_features(rect,h,w):\n",
        "    mask = np.array([w,h,w,h],dtype=np.float32)\n",
        "    rect = np.clip(rect/mask,0,1)\n",
        "    res = np.hstack((rect,[rect[3]-rect[1], rect[2]-rect[0]]))\n",
        "    return res.astype(np.float32)\n",
        "\n",
        "def generate_features(x):\n",
        "    idx, data,num_boxes = x[0],x[1],len(x[1])\n",
        "    h,w,features_arr = hw_df.loc[idx,1][0]['height'],hw_df.loc[idx,1][0]['width'],[]\n",
        "\n",
        "    for i in range(num_boxes):\n",
        "        features = np.frombuffer(base64.b64decode(data[i]['feature']),np.float32)\n",
        "        pos_feat = generate_additional_features(data[i]['rect'],h,w)\n",
        "        x = np.hstack((features,pos_feat))\n",
        "        features_arr.append(x.astype(np.float32))\n",
        "        \n",
        "    features = np.vstack(tuple(features_arr))\n",
        "    features = base64.b64encode(features).decode(\"utf-8\")\n",
        "    return {\"features\":features, \"num_boxes\":num_boxes}\n",
        "\n",
        "def generate_labels(x):\n",
        "    data = x[1]\n",
        "    res = [{\"class\":el['class'].capitalize(),\"conf\":el['conf'], \"rect\": el['rect']} for el in data] \n",
        "    return res"
      ],
      "execution_count": null,
      "outputs": []
    },
    {
      "cell_type": "code",
      "metadata": {
        "id": "_X99JO1XXiUe"
      },
      "source": [
        "df['feature'] = df.apply(generate_features,axis=1)\n",
        "df['feature'] = df['feature'].apply(json.dumps)\n",
        "\n",
        "df['label'] = df.apply(generate_labels,axis=1)\n",
        "df['label'] = df['label'].apply(json.dumps)"
      ],
      "execution_count": null,
      "outputs": []
    },
    {
      "cell_type": "code",
      "metadata": {
        "colab": {
          "base_uri": "https://localhost:8080/",
          "height": 203
        },
        "id": "ZcwcZc6OXiUf",
        "outputId": "a01bbfc2-5fa1-4c3c-f40c-fdec160b3768"
      },
      "source": [
        "df.head()"
      ],
      "execution_count": null,
      "outputs": [
        {
          "output_type": "execute_result",
          "data": {
            "text/html": [
              "<div>\n",
              "<style scoped>\n",
              "    .dataframe tbody tr th:only-of-type {\n",
              "        vertical-align: middle;\n",
              "    }\n",
              "\n",
              "    .dataframe tbody tr th {\n",
              "        vertical-align: top;\n",
              "    }\n",
              "\n",
              "    .dataframe thead th {\n",
              "        text-align: right;\n",
              "    }\n",
              "</style>\n",
              "<table border=\"1\" class=\"dataframe\">\n",
              "  <thead>\n",
              "    <tr style=\"text-align: right;\">\n",
              "      <th></th>\n",
              "      <th>0</th>\n",
              "      <th>1</th>\n",
              "      <th>feature</th>\n",
              "      <th>label</th>\n",
              "    </tr>\n",
              "  </thead>\n",
              "  <tbody>\n",
              "    <tr>\n",
              "      <th>0</th>\n",
              "      <td>img1</td>\n",
              "      <td>[{'rect': [319.3331298828125, 376.935791015625...</td>\n",
              "      <td>{\"features\": \"QAy2PuWTkT7I+8w9XK4aQG/b20AAAAAA...</td>\n",
              "      <td>[{\"class\": \"Guitar\", \"conf\": 0.993547976016998...</td>\n",
              "    </tr>\n",
              "    <tr>\n",
              "      <th>1</th>\n",
              "      <td>img2</td>\n",
              "      <td>[{'rect': [121.45631408691406, 11.671216011047...</td>\n",
              "      <td>{\"features\": \"ClsLPZUHCEAAAAAAb8EyP/WpvUAAAAAA...</td>\n",
              "      <td>[{\"class\": \"Racket\", \"conf\": 0.832623183727264...</td>\n",
              "    </tr>\n",
              "    <tr>\n",
              "      <th>2</th>\n",
              "      <td>img3</td>\n",
              "      <td>[{'rect': [544.0774536132812, 378.101715087890...</td>\n",
              "      <td>{\"features\": \"fYqJPgAAAAAAAAAAAAAAAA22nD+3OSg9...</td>\n",
              "      <td>[{\"class\": \"Short\", \"conf\": 0.8272700309753418...</td>\n",
              "    </tr>\n",
              "    <tr>\n",
              "      <th>3</th>\n",
              "      <td>img4</td>\n",
              "      <td>[{'rect': [29.02312469482422, 176.618881225585...</td>\n",
              "      <td>{\"features\": \"AAAAAAAAAAAAAAAAksjNOwAAAAAAAAAA...</td>\n",
              "      <td>[{\"class\": \"Short\", \"conf\": 0.9363991022109985...</td>\n",
              "    </tr>\n",
              "    <tr>\n",
              "      <th>4</th>\n",
              "      <td>img5</td>\n",
              "      <td>[{'rect': [180.96417236328125, 100.34861755371...</td>\n",
              "      <td>{\"features\": \"wrNuPwAAAAAAAAAA6jKOP76V40AAAAAA...</td>\n",
              "      <td>[{\"class\": \"Shirt\", \"conf\": 0.8880357146263123...</td>\n",
              "    </tr>\n",
              "  </tbody>\n",
              "</table>\n",
              "</div>"
            ],
            "text/plain": [
              "      0  ...                                              label\n",
              "0  img1  ...  [{\"class\": \"Guitar\", \"conf\": 0.993547976016998...\n",
              "1  img2  ...  [{\"class\": \"Racket\", \"conf\": 0.832623183727264...\n",
              "2  img3  ...  [{\"class\": \"Short\", \"conf\": 0.8272700309753418...\n",
              "3  img4  ...  [{\"class\": \"Short\", \"conf\": 0.9363991022109985...\n",
              "4  img5  ...  [{\"class\": \"Shirt\", \"conf\": 0.8880357146263123...\n",
              "\n",
              "[5 rows x 4 columns]"
            ]
          },
          "metadata": {
            "tags": []
          },
          "execution_count": 7
        }
      ]
    },
    {
      "cell_type": "markdown",
      "metadata": {
        "id": "0FRGiciDXiUf"
      },
      "source": [
        "### Write to tsv + generate lineidx"
      ]
    },
    {
      "cell_type": "code",
      "metadata": {
        "id": "XoV9kT0XXiUg"
      },
      "source": [
        "import os\n",
        "OUTPUT_DIR = '/content/drive/MyDrive/vinvl_images_features/inference_test/'\n",
        "LABEL_FILE = os.path.join(OUTPUT_DIR,'label.tsv')\n",
        "FEATURE_FILE = os.path.join(OUTPUT_DIR,'feature.tsv')\n",
        "if not os.path.exists(OUTPUT_DIR):\n",
        "    os.makedirs(OUTPUT_DIR)\n",
        "    print(f\"path to {OUTPUT_DIR} created\")"
      ],
      "execution_count": null,
      "outputs": []
    },
    {
      "cell_type": "code",
      "metadata": {
        "colab": {
          "base_uri": "https://localhost:8080/"
        },
        "id": "EoGkw8orTFeD",
        "outputId": "1381d0ef-f340-482e-d61c-1f2586c3cec5"
      },
      "source": [
        "% cd /content/drive/MyDrive/projects/scene_graph_benchmark-main/\n",
        "!pwd"
      ],
      "execution_count": null,
      "outputs": [
        {
          "output_type": "stream",
          "text": [
            "/content/drive/MyDrive/projects/scene_graph_benchmark-main\n",
            "/content/drive/My Drive/projects/scene_graph_benchmark-main\n"
          ],
          "name": "stdout"
        }
      ]
    },
    {
      "cell_type": "code",
      "metadata": {
        "id": "BmBhDg3BXiUg"
      },
      "source": [
        "from maskrcnn_benchmark.structures.tsv_file_ops import tsv_reader, tsv_writer\n",
        "tsv_writer(df[[0,'label']].values.tolist(),LABEL_FILE)\n",
        "tsv_writer(df[[0,'feature']].values.tolist(),FEATURE_FILE)"
      ],
      "execution_count": null,
      "outputs": []
    },
    {
      "cell_type": "markdown",
      "metadata": {
        "id": "7wBn2UiGXiUh"
      },
      "source": [
        "## Generate test.yaml for vinvl run_captioning"
      ]
    },
    {
      "cell_type": "code",
      "metadata": {
        "id": "RAsqr731XiUh"
      },
      "source": [
        "import yaml\n",
        "import os.path as op\n",
        "yaml_dict = {\"label\": \"label.tsv\",\n",
        "             \"feature\": \"features.tsv\"}\n",
        "\n",
        "with open(op.join(OUTPUT_DIR, 'vinvl_test_yaml.yaml'), 'w') as file:\n",
        "        yaml.dump(yaml_dict, file)"
      ],
      "execution_count": null,
      "outputs": []
    },
    {
      "cell_type": "markdown",
      "metadata": {
        "id": "V69jraLxXiUi"
      },
      "source": [
        "### Misc: Read generated tsvs"
      ]
    },
    {
      "cell_type": "code",
      "metadata": {
        "id": "kB7m47KmXiUi",
        "colab": {
          "base_uri": "https://localhost:8080/"
        },
        "outputId": "15e37492-a562-4cad-d1a1-28639207b2da"
      },
      "source": [
        "pd.read_csv('/content/drive/MyDrive/vinvl_images_features/inference_test/feature.tsv',header=None,sep='\\t').shape"
      ],
      "execution_count": null,
      "outputs": [
        {
          "output_type": "execute_result",
          "data": {
            "text/plain": [
              "(5, 2)"
            ]
          },
          "metadata": {
            "tags": []
          },
          "execution_count": 16
        }
      ]
    },
    {
      "cell_type": "markdown",
      "metadata": {
        "id": "_s9nkWnkXiUi"
      },
      "source": [
        "### Encoding correctness check"
      ]
    },
    {
      "cell_type": "code",
      "metadata": {
        "id": "MMupdlWMXiUi",
        "colab": {
          "base_uri": "https://localhost:8080/"
        },
        "outputId": "30a64946-0435-4d02-ff03-483004a2bf55"
      },
      "source": [
        "df.loc[0,1][0]['rect']"
      ],
      "execution_count": null,
      "outputs": [
        {
          "output_type": "execute_result",
          "data": {
            "text/plain": [
              "[319.3331298828125, 376.935791015625, 604.7099609375, 507.1802673339844]"
            ]
          },
          "metadata": {
            "tags": []
          },
          "execution_count": 17
        }
      ]
    },
    {
      "cell_type": "code",
      "metadata": {
        "colab": {
          "base_uri": "https://localhost:8080/",
          "height": 203
        },
        "id": "pTUj7M8lV9Hz",
        "outputId": "75f6f25d-7614-4596-95c8-2bbeeb13f2fa"
      },
      "source": [
        "df"
      ],
      "execution_count": null,
      "outputs": [
        {
          "output_type": "execute_result",
          "data": {
            "text/html": [
              "<div>\n",
              "<style scoped>\n",
              "    .dataframe tbody tr th:only-of-type {\n",
              "        vertical-align: middle;\n",
              "    }\n",
              "\n",
              "    .dataframe tbody tr th {\n",
              "        vertical-align: top;\n",
              "    }\n",
              "\n",
              "    .dataframe thead th {\n",
              "        text-align: right;\n",
              "    }\n",
              "</style>\n",
              "<table border=\"1\" class=\"dataframe\">\n",
              "  <thead>\n",
              "    <tr style=\"text-align: right;\">\n",
              "      <th></th>\n",
              "      <th>0</th>\n",
              "      <th>1</th>\n",
              "      <th>feature</th>\n",
              "      <th>label</th>\n",
              "    </tr>\n",
              "  </thead>\n",
              "  <tbody>\n",
              "    <tr>\n",
              "      <th>0</th>\n",
              "      <td>img1</td>\n",
              "      <td>[{'rect': [319.3331298828125, 376.935791015625...</td>\n",
              "      <td>{\"features\": \"QAy2PuWTkT7I+8w9XK4aQG/b20AAAAAA...</td>\n",
              "      <td>[{\"class\": \"Guitar\", \"conf\": 0.993547976016998...</td>\n",
              "    </tr>\n",
              "    <tr>\n",
              "      <th>1</th>\n",
              "      <td>img2</td>\n",
              "      <td>[{'rect': [121.45631408691406, 11.671216011047...</td>\n",
              "      <td>{\"features\": \"ClsLPZUHCEAAAAAAb8EyP/WpvUAAAAAA...</td>\n",
              "      <td>[{\"class\": \"Racket\", \"conf\": 0.832623183727264...</td>\n",
              "    </tr>\n",
              "    <tr>\n",
              "      <th>2</th>\n",
              "      <td>img3</td>\n",
              "      <td>[{'rect': [544.0774536132812, 378.101715087890...</td>\n",
              "      <td>{\"features\": \"fYqJPgAAAAAAAAAAAAAAAA22nD+3OSg9...</td>\n",
              "      <td>[{\"class\": \"Short\", \"conf\": 0.8272700309753418...</td>\n",
              "    </tr>\n",
              "    <tr>\n",
              "      <th>3</th>\n",
              "      <td>img4</td>\n",
              "      <td>[{'rect': [29.02312469482422, 176.618881225585...</td>\n",
              "      <td>{\"features\": \"AAAAAAAAAAAAAAAAksjNOwAAAAAAAAAA...</td>\n",
              "      <td>[{\"class\": \"Short\", \"conf\": 0.9363991022109985...</td>\n",
              "    </tr>\n",
              "    <tr>\n",
              "      <th>4</th>\n",
              "      <td>img5</td>\n",
              "      <td>[{'rect': [180.96417236328125, 100.34861755371...</td>\n",
              "      <td>{\"features\": \"wrNuPwAAAAAAAAAA6jKOP76V40AAAAAA...</td>\n",
              "      <td>[{\"class\": \"Shirt\", \"conf\": 0.8880357146263123...</td>\n",
              "    </tr>\n",
              "  </tbody>\n",
              "</table>\n",
              "</div>"
            ],
            "text/plain": [
              "      0  ...                                              label\n",
              "0  img1  ...  [{\"class\": \"Guitar\", \"conf\": 0.993547976016998...\n",
              "1  img2  ...  [{\"class\": \"Racket\", \"conf\": 0.832623183727264...\n",
              "2  img3  ...  [{\"class\": \"Short\", \"conf\": 0.8272700309753418...\n",
              "3  img4  ...  [{\"class\": \"Short\", \"conf\": 0.9363991022109985...\n",
              "4  img5  ...  [{\"class\": \"Shirt\", \"conf\": 0.8880357146263123...\n",
              "\n",
              "[5 rows x 4 columns]"
            ]
          },
          "metadata": {
            "tags": []
          },
          "execution_count": 23
        }
      ]
    },
    {
      "cell_type": "code",
      "metadata": {
        "id": "Sg-zXTHUXiUj",
        "colab": {
          "base_uri": "https://localhost:8080/"
        },
        "outputId": "bf56aa38-09c8-400b-c9e3-d8e3e131f749"
      },
      "source": [
        "features_t = np.frombuffer(base64.b64decode(json.loads(df.loc[0,'feature'])['features']),np.float32).reshape(json.loads(df.loc[0,'feature'])['num_boxes'],-1)\n",
        "features_t.shape"
      ],
      "execution_count": null,
      "outputs": [
        {
          "output_type": "execute_result",
          "data": {
            "text/plain": [
              "(47, 2054)"
            ]
          },
          "metadata": {
            "tags": []
          },
          "execution_count": 31
        }
      ]
    },
    {
      "cell_type": "code",
      "metadata": {
        "id": "MyuTG0RTXiUj",
        "colab": {
          "base_uri": "https://localhost:8080/"
        },
        "outputId": "7a05ef4b-8877-48a3-fc57-5f266df591db"
      },
      "source": [
        "features_t[0,-6:]"
      ],
      "execution_count": null,
      "outputs": [
        {
          "output_type": "execute_result",
          "data": {
            "text/plain": [
              "array([0.2661, 0.4706, 0.5039, 0.6332, 0.1626, 0.2378], dtype=float32)"
            ]
          },
          "metadata": {
            "tags": []
          },
          "execution_count": 32
        }
      ]
    },
    {
      "cell_type": "code",
      "metadata": {
        "id": "HJgkQm_PXiUk"
      },
      "source": [
        "def reverse_transform(feat,h=800,w=1200):\n",
        "    return feat[:4] * np.array([w,h,w,h])"
      ],
      "execution_count": null,
      "outputs": []
    },
    {
      "cell_type": "code",
      "metadata": {
        "id": "7m_DRSwdXiUk",
        "colab": {
          "base_uri": "https://localhost:8080/"
        },
        "outputId": "1ff9b50d-71c9-4c64-ea57-240a67f4ca11"
      },
      "source": [
        "reverse_transform(features_t[0,-6:])"
      ],
      "execution_count": null,
      "outputs": [
        {
          "output_type": "execute_result",
          "data": {
            "text/plain": [
              "array([319.3331, 376.4652, 604.71  , 506.5471])"
            ]
          },
          "metadata": {
            "tags": []
          },
          "execution_count": 34
        }
      ]
    },
    {
      "cell_type": "code",
      "metadata": {
        "id": "e4dTaWyxXiUl"
      },
      "source": [
        ""
      ],
      "execution_count": null,
      "outputs": []
    }
  ]
}